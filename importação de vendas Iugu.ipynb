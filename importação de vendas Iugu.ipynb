{
 "cells": [
  {
   "cell_type": "code",
   "execution_count": 37,
   "metadata": {
    "executionInfo": {
     "elapsed": 5,
     "status": "ok",
     "timestamp": 1720697312291,
     "user": {
      "displayName": "Leandro Gomes",
      "userId": "02869815616689188456"
     },
     "user_tz": 180
    },
    "id": "h96p2DTcfw-S"
   },
   "outputs": [],
   "source": [
    "import math\n",
    "import requests\n"
   ]
  },
  {
   "cell_type": "code",
   "execution_count": 38,
   "metadata": {
    "executionInfo": {
     "elapsed": 5,
     "status": "ok",
     "timestamp": 1720697312292,
     "user": {
      "displayName": "Leandro Gomes",
      "userId": "02869815616689188456"
     },
     "user_tz": 180
    },
    "id": "7ScELIXMoxkG"
   },
   "outputs": [],
   "source": [
    "paid_at_from = '2025-01-01T00:00:00-03:00'\n",
    "paid_at_to = '2025-01-31T23:59:59-03:00'"
   ]
  },
  {
   "cell_type": "code",
   "execution_count": 39,
   "metadata": {
    "executionInfo": {
     "elapsed": 5,
     "status": "ok",
     "timestamp": 1720697312292,
     "user": {
      "displayName": "Leandro Gomes",
      "userId": "02869815616689188456"
     },
     "user_tz": 180
    },
    "id": "XGlSd_zOqif7"
   },
   "outputs": [],
   "source": [
    "headers = {\"accept\": \"application/json\"}"
   ]
  },
  {
   "cell_type": "code",
   "execution_count": 40,
   "metadata": {
    "executionInfo": {
     "elapsed": 5,
     "status": "ok",
     "timestamp": 1720697312292,
     "user": {
      "displayName": "Leandro Gomes",
      "userId": "02869815616689188456"
     },
     "user_tz": 180
    },
    "id": "4Pks8CGnir40"
   },
   "outputs": [],
   "source": [
    "logfile = 'iugu.csv'"
   ]
  },
  {
   "cell_type": "code",
   "execution_count": 41,
   "metadata": {
    "executionInfo": {
     "elapsed": 5,
     "status": "ok",
     "timestamp": 1720697312292,
     "user": {
      "displayName": "Leandro Gomes",
      "userId": "02869815616689188456"
     },
     "user_tz": 180
    },
    "id": "ritxNhYdzOSn"
   },
   "outputs": [],
   "source": [
    "cabecalho = \"Código;Situação;Código da Assinatura;Data do pagamento;CPF/CNPJ;Nome;Total\""
   ]
  },
  {
   "cell_type": "code",
   "execution_count": 42,
   "metadata": {
    "executionInfo": {
     "elapsed": 350,
     "status": "ok",
     "timestamp": 1720697312637,
     "user": {
      "displayName": "Leandro Gomes",
      "userId": "02869815616689188456"
     },
     "user_tz": 180
    },
    "id": "JV94HonqfLPA"
   },
   "outputs": [],
   "source": [
    "#paid, refunded, partially_refunded, chargeback\n",
    "status = 'refunded'"
   ]
  },
  {
   "cell_type": "code",
   "execution_count": null,
   "metadata": {
    "colab": {
     "base_uri": "https://localhost:8080/"
    },
    "executionInfo": {
     "elapsed": 1017,
     "status": "ok",
     "timestamp": 1720697313651,
     "user": {
      "displayName": "Leandro Gomes",
      "userId": "02869815616689188456"
     },
     "user_tz": 180
    },
    "id": "cZHwvParbcYg",
    "outputId": "13561252-cbb2-4cab-a330-cd19f883f0f6"
   },
   "outputs": [],
   "source": [
    "url = \"https://api.iugu.com/v1/invoices?limit=1&start=0&paid_at_from=\" + str(paid_at_from) + \"&paid_at_to=\" + str(paid_at_to) + \"&status_filter=\" +str(status) + \"&api_token=xxxx\"\n",
    "\n",
    "response = requests.get(url, headers=headers)\n",
    "print (response.text)"
   ]
  },
  {
   "cell_type": "code",
   "execution_count": 44,
   "metadata": {
    "colab": {
     "base_uri": "https://localhost:8080/"
    },
    "executionInfo": {
     "elapsed": 4,
     "status": "ok",
     "timestamp": 1720697314602,
     "user": {
      "displayName": "Leandro Gomes",
      "userId": "02869815616689188456"
     },
     "user_tz": 180
    },
    "id": "vPrkmSrtdCJc",
    "outputId": "408f9236-7713-4493-e8c9-9e2748eacf7b"
   },
   "outputs": [
    {
     "data": {
      "text/plain": [
       "18"
      ]
     },
     "execution_count": 44,
     "metadata": {},
     "output_type": "execute_result"
    }
   ],
   "source": [
    "data = response.json()\n",
    "totalItems = data['totalItems']\n",
    "totalItems"
   ]
  },
  {
   "cell_type": "code",
   "execution_count": 45,
   "metadata": {
    "colab": {
     "base_uri": "https://localhost:8080/"
    },
    "executionInfo": {
     "elapsed": 3,
     "status": "ok",
     "timestamp": 1720697315750,
     "user": {
      "displayName": "Leandro Gomes",
      "userId": "02869815616689188456"
     },
     "user_tz": 180
    },
    "id": "42OHZXhndKL8",
    "outputId": "59d5dcc1-8fcc-4e17-e25f-ff2b7aaebec2"
   },
   "outputs": [
    {
     "data": {
      "text/plain": [
       "2"
      ]
     },
     "execution_count": 45,
     "metadata": {},
     "output_type": "execute_result"
    }
   ],
   "source": [
    "paginas = math.ceil(totalItems/100) + 1\n",
    "paginas"
   ]
  },
  {
   "cell_type": "code",
   "execution_count": 46,
   "metadata": {
    "executionInfo": {
     "elapsed": 319,
     "status": "ok",
     "timestamp": 1720697317676,
     "user": {
      "displayName": "Leandro Gomes",
      "userId": "02869815616689188456"
     },
     "user_tz": 180
    },
    "id": "O6OU1AA3w-eW"
   },
   "outputs": [],
   "source": [
    "limit = 0"
   ]
  },
  {
   "cell_type": "code",
   "execution_count": 47,
   "metadata": {
    "executionInfo": {
     "elapsed": 239016,
     "status": "ok",
     "timestamp": 1720697564163,
     "user": {
      "displayName": "Leandro Gomes",
      "userId": "02869815616689188456"
     },
     "user_tz": 180
    },
    "id": "3IXMcPbUfvr4"
   },
   "outputs": [],
   "source": [
    "with open(logfile, 'w') as file:\n",
    "  file.write(cabecalho+'\\n')\n",
    "  for i in range(0,paginas):\n",
    "    url = \"https://api.iugu.com/v1/invoices?limit=100\"+ \"&start=\" + str(limit) + \"&paid_at_from=\" + str(paid_at_from) + \"&paid_at_to=\" + str(paid_at_to) + \"&status_filter=\" +str(status) +\"&api_token=DDD91DBD410EBCE75AC818E48BB410B1EDF2401F344D8135B30D2DAF05D5D5C2\"\n",
    "    result = requests.get(url, headers=headers)\n",
    "    dt = result.json()\n",
    "    dados = dt[\"items\"]\n",
    "    for valor in dados:\n",
    "      file.write(valor['id']+';'+ valor['status']+';' + str(valor['subscription_id'])+';' + valor['paid_at']+';' + str(valor['total_paid_cents'])+ '\\n')\n",
    "    limit += 100\n"
   ]
  },
  {
   "cell_type": "code",
   "execution_count": 48,
   "metadata": {
    "colab": {
     "base_uri": "https://localhost:8080/"
    },
    "executionInfo": {
     "elapsed": 342,
     "status": "ok",
     "timestamp": 1720697684362,
     "user": {
      "displayName": "Leandro Gomes",
      "userId": "02869815616689188456"
     },
     "user_tz": 180
    },
    "id": "joONvDZiCw9n",
    "outputId": "478b22d8-4cb0-4a70-8f34-b367b9322279"
   },
   "outputs": [
    {
     "name": "stdout",
     "output_type": "stream",
     "text": [
      "This is the number of lines in the file:19\n"
     ]
    }
   ],
   "source": [
    "file = open(\"iugu.csv\",\"r\")\n",
    "Counter = 0\n",
    "Content = file.read()\n",
    "CoList = Content.split(\"\\n\")\n",
    "\n",
    "for i in CoList:\n",
    "    if i:\n",
    "        Counter += 1\n",
    "\n",
    "print(f'This is the number of lines in the file:{Counter}')"
   ]
  },
  {
   "cell_type": "markdown",
   "metadata": {
    "id": "m11afy5rgh78"
   },
   "source": [
    "##processa arquivo"
   ]
  },
  {
   "cell_type": "code",
   "execution_count": null,
   "metadata": {
    "id": "7m_pmCs8gkkw"
   },
   "outputs": [],
   "source": [
    "import requests\n",
    "import json\n",
    "import csv\n",
    "import time"
   ]
  },
  {
   "cell_type": "code",
   "execution_count": null,
   "metadata": {
    "id": "UQ1sSpsbgurD"
   },
   "outputs": [],
   "source": [
    "url = 'https://afya-pebmed-refact.gateway.linkapi.solutions/v3/iugu'\n"
   ]
  },
  {
   "cell_type": "code",
   "execution_count": null,
   "metadata": {
    "id": "I-S39hPWgwH9"
   },
   "outputs": [],
   "source": [
    "headers = {\n",
    "  'Content-Type': 'application/json'\n",
    "}"
   ]
  },
  {
   "cell_type": "code",
   "execution_count": null,
   "metadata": {
    "id": "-6on9-s-g18u"
   },
   "outputs": [],
   "source": [
    "logfile = 'processamento.txt'"
   ]
  },
  {
   "cell_type": "code",
   "execution_count": null,
   "metadata": {
    "id": "U41VwRGSg6GR"
   },
   "outputs": [],
   "source": [
    "payload = json.dumps({\n",
    "  \"event\": \"invoice.status_changed\",\n",
    "  \"data\": {\n",
    "    \"id\": \"idfat\",\n",
    "    \"status\": \"sts\",\n",
    "    \"account_id\": \"0B864B780D28411F91D0172DAB585A2B\",\n",
    "    \"async_charged\": \"\",\n",
    "    \"subscription_id\": \"idsubs\",\n",
    "    \"payment_method\": \"iugu_credit_card\",\n",
    "    \"paid_at\": \"dtpaid\",\n",
    "    \"paid_cents\": \"vlr\"\n",
    "  },\n",
    "  \"retry_count\": \"0\"\n",
    "})"
   ]
  },
  {
   "cell_type": "code",
   "execution_count": null,
   "metadata": {
    "id": "603xeqQhg73W"
   },
   "outputs": [],
   "source": [
    "search_value = 'ReplyError: ERR invalid expire time in setex'"
   ]
  },
  {
   "cell_type": "code",
   "execution_count": null,
   "metadata": {
    "id": "ZyM5ncZHhvYX"
   },
   "outputs": [],
   "source": [
    "i = 0"
   ]
  },
  {
   "cell_type": "code",
   "execution_count": null,
   "metadata": {
    "colab": {
     "base_uri": "https://localhost:8080/",
     "height": 211
    },
    "executionInfo": {
     "elapsed": 278,
     "status": "error",
     "timestamp": 1720619620602,
     "user": {
      "displayName": "Leandro Gomes",
      "userId": "02869815616689188456"
     },
     "user_tz": 180
    },
    "id": "g2DVZ1Kmg9f_",
    "outputId": "33f3463c-bf6a-4d4b-8c7f-2ce97d044c0b"
   },
   "outputs": [],
   "source": [
    "with open(logfile, 'w') as file:\n",
    "  with open('iugu.csv', 'r') as txt_file:\n",
    "      for line_number, content in enumerate(txt_file):\n",
    "          if line_number:  # pula cabeçalho\n",
    "              colunas = content.strip().split(';')\n",
    "              request = url\n",
    "              body = payload.replace(\"idfat\",colunas[0])\n",
    "              body1 = body.replace(\"idsubs\",colunas[2])\n",
    "              body2 = body1.replace(\"dtpaid\",colunas[3])\n",
    "              body3 = body2.replace(\"vlr\",colunas[6])\n",
    "              body4 = body3.replace(\"sts\",colunas[1])\n",
    "              print(body4)\n",
    "\n",
    "              response = requests.request(\"POST\", url, headers=headers, data=body4)\n",
    "              print(f'Resposta - OK: {response.text}')\n",
    "              if search_value in response.text:\n",
    "                response = requests.request(\"POST\", url, headers=headers, data=body4)\n",
    "                print(f'Resposta - Erro - segunda tentativa: {response.text}')\n",
    "                if search_value in response.text:\n",
    "                  response = requests.request(\"POST\", url, headers=headers, data=body4)\n",
    "                  print(f'Resposta - Erro - terceira tentativa: {response.text}')\n",
    "              file.write(f'{colunas[0]};{body4};{response.text}\\n')\n",
    "\n",
    "              time.sleep(1)\n",
    "              i += 1\n",
    "              print(i)\n"
   ]
  }
 ],
 "metadata": {
  "colab": {
   "authorship_tag": "ABX9TyPG7q5uUjBDo1kq29Xg9NLI",
   "provenance": []
  },
  "kernelspec": {
   "display_name": "Python 3 (ipykernel)",
   "language": "python",
   "name": "python3"
  },
  "language_info": {
   "codemirror_mode": {
    "name": "ipython",
    "version": 3
   },
   "file_extension": ".py",
   "mimetype": "text/x-python",
   "name": "python",
   "nbconvert_exporter": "python",
   "pygments_lexer": "ipython3",
   "version": "3.10.12"
  }
 },
 "nbformat": 4,
 "nbformat_minor": 4
}
